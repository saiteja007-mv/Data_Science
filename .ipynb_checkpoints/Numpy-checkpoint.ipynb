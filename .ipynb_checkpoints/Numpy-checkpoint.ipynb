{
 "cells": [
  {
   "cell_type": "markdown",
   "id": "73e8992d-f432-4b5c-9900-feaeca1b6044",
   "metadata": {},
   "source": [
    "# NumPy "
   ]
  },
  {
   "cell_type": "raw",
   "id": "18ad49dc-346f-4f03-bf28-bbdec0d9e2b7",
   "metadata": {},
   "source": [
    "In numpy we can represent arrays in 1D, 2D, 3D, 4D, .....more"
   ]
  },
  {
   "cell_type": "raw",
   "id": "0909d85c-c555-4a09-a721-a48ae54176d6",
   "metadata": {},
   "source": [
    "The main difference between lists and numpy array \n",
    "1.Numpy is fixed type (int32,int16,int8)\n",
    "2.Faster to read less bytes of memory\n",
    "3.No type checking \n",
    "4.Numpy uses contiguous memory "
   ]
  },
  {
   "cell_type": "markdown",
   "id": "7adeba4b-e948-4121-946f-38e9d35ab6aa",
   "metadata": {},
   "source": [
    "# Load NumPy"
   ]
  },
  {
   "cell_type": "code",
   "execution_count": 159,
   "id": "b157f42b-5ca7-4f4d-b6e0-ad39270f4160",
   "metadata": {
    "execution": {
     "iopub.execute_input": "2023-10-02T13:07:43.746878Z",
     "iopub.status.busy": "2023-10-02T13:07:43.745868Z",
     "iopub.status.idle": "2023-10-02T13:07:43.760877Z",
     "shell.execute_reply": "2023-10-02T13:07:43.759877Z",
     "shell.execute_reply.started": "2023-10-02T13:07:43.746878Z"
    },
    "tags": []
   },
   "outputs": [],
   "source": [
    "import numpy as np"
   ]
  },
  {
   "cell_type": "markdown",
   "id": "0c6617cb-0db9-420d-af80-46ca450c7968",
   "metadata": {
    "execution": {
     "iopub.execute_input": "2023-10-01T11:11:27.959810Z",
     "iopub.status.busy": "2023-10-01T11:11:27.959810Z",
     "iopub.status.idle": "2023-10-01T11:11:27.963255Z",
     "shell.execute_reply": "2023-10-01T11:11:27.963255Z",
     "shell.execute_reply.started": "2023-10-01T11:11:27.959810Z"
    },
    "tags": []
   },
   "source": [
    "# Basics operations"
   ]
  },
  {
   "cell_type": "markdown",
   "id": "1574dddd-b828-403f-a6c4-c751e3852eee",
   "metadata": {},
   "source": [
    "#### Initializing the array"
   ]
  },
  {
   "cell_type": "code",
   "execution_count": 160,
   "id": "dc4ce08d-d363-40f7-8b72-c4bb64c77ea4",
   "metadata": {
    "execution": {
     "iopub.execute_input": "2023-10-02T13:07:43.762877Z",
     "iopub.status.busy": "2023-10-02T13:07:43.762877Z",
     "iopub.status.idle": "2023-10-02T13:07:43.775440Z",
     "shell.execute_reply": "2023-10-02T13:07:43.775440Z",
     "shell.execute_reply.started": "2023-10-02T13:07:43.762877Z"
    },
    "tags": []
   },
   "outputs": [
    {
     "name": "stdout",
     "output_type": "stream",
     "text": [
      "[1 2 3 4]\n"
     ]
    }
   ],
   "source": [
    "a = np.array([1,2,3,4]) #1D\n",
    "print(a)"
   ]
  },
  {
   "cell_type": "code",
   "execution_count": 161,
   "id": "83ccd98b-7af5-4c46-abed-bd4c35069f13",
   "metadata": {
    "execution": {
     "iopub.execute_input": "2023-10-02T13:07:43.777914Z",
     "iopub.status.busy": "2023-10-02T13:07:43.776905Z",
     "iopub.status.idle": "2023-10-02T13:07:43.791434Z",
     "shell.execute_reply": "2023-10-02T13:07:43.791434Z",
     "shell.execute_reply.started": "2023-10-02T13:07:43.777914Z"
    },
    "tags": []
   },
   "outputs": [
    {
     "name": "stdout",
     "output_type": "stream",
     "text": [
      "[[ 1  2  3  4  5]\n",
      " [ 6  7  8  9 10]]\n"
     ]
    }
   ],
   "source": [
    "b = np.array([[1,2,3,4,5],[6,7,8,9,10]])\n",
    "print(b)"
   ]
  },
  {
   "cell_type": "markdown",
   "id": "727c85f7-2250-40ab-8b57-9340ee6f262c",
   "metadata": {},
   "source": [
    "#### Get the dimensions"
   ]
  },
  {
   "cell_type": "code",
   "execution_count": 162,
   "id": "a8479e68-eef5-4f18-a89d-79fac6ace2ae",
   "metadata": {
    "execution": {
     "iopub.execute_input": "2023-10-02T13:07:43.794517Z",
     "iopub.status.busy": "2023-10-02T13:07:43.793508Z",
     "iopub.status.idle": "2023-10-02T13:07:43.807050Z",
     "shell.execute_reply": "2023-10-02T13:07:43.807050Z",
     "shell.execute_reply.started": "2023-10-02T13:07:43.794517Z"
    },
    "tags": []
   },
   "outputs": [
    {
     "name": "stdout",
     "output_type": "stream",
     "text": [
      "1\n",
      "2\n"
     ]
    }
   ],
   "source": [
    "print(a.ndim)\n",
    "print(b.ndim)"
   ]
  },
  {
   "cell_type": "markdown",
   "id": "8f3c2203-8a10-48af-8a8e-500f7bd94f56",
   "metadata": {},
   "source": [
    "#### Get shape --> Showing columns and rows "
   ]
  },
  {
   "cell_type": "code",
   "execution_count": 163,
   "id": "bed5be9a-e3cd-4b11-97b3-a93b307ac4bd",
   "metadata": {
    "execution": {
     "iopub.execute_input": "2023-10-02T13:07:43.808397Z",
     "iopub.status.busy": "2023-10-02T13:07:43.808397Z",
     "iopub.status.idle": "2023-10-02T13:07:43.823825Z",
     "shell.execute_reply": "2023-10-02T13:07:43.822861Z",
     "shell.execute_reply.started": "2023-10-02T13:07:43.808397Z"
    },
    "tags": []
   },
   "outputs": [
    {
     "data": {
      "text/plain": [
       "(2, 5)"
      ]
     },
     "execution_count": 163,
     "metadata": {},
     "output_type": "execute_result"
    }
   ],
   "source": [
    "b.shape # 2 Rows and 5 Columns"
   ]
  },
  {
   "cell_type": "markdown",
   "id": "ad6b0611-cd55-4ef8-8fc8-e9a642e83a79",
   "metadata": {},
   "source": [
    "#### Get the datatype of array "
   ]
  },
  {
   "cell_type": "code",
   "execution_count": 164,
   "id": "b3591f1c-ed89-43e9-814c-6147717cd52f",
   "metadata": {
    "execution": {
     "iopub.execute_input": "2023-10-02T13:07:43.824825Z",
     "iopub.status.busy": "2023-10-02T13:07:43.823825Z",
     "iopub.status.idle": "2023-10-02T13:07:43.839829Z",
     "shell.execute_reply": "2023-10-02T13:07:43.838908Z",
     "shell.execute_reply.started": "2023-10-02T13:07:43.824825Z"
    },
    "tags": []
   },
   "outputs": [
    {
     "data": {
      "text/plain": [
       "dtype('int32')"
      ]
     },
     "execution_count": 164,
     "metadata": {},
     "output_type": "execute_result"
    }
   ],
   "source": [
    "a.dtype"
   ]
  },
  {
   "cell_type": "markdown",
   "id": "295256f3-da36-469b-9368-e24e194155e1",
   "metadata": {},
   "source": [
    "#### We can give the datatype we want when we initialize the array"
   ]
  },
  {
   "cell_type": "code",
   "execution_count": 165,
   "id": "6b321151-40e0-483a-8319-b9c70539dcc3",
   "metadata": {
    "execution": {
     "iopub.execute_input": "2023-10-02T13:07:43.841003Z",
     "iopub.status.busy": "2023-10-02T13:07:43.839829Z",
     "iopub.status.idle": "2023-10-02T13:07:43.854591Z",
     "shell.execute_reply": "2023-10-02T13:07:43.854591Z",
     "shell.execute_reply.started": "2023-10-02T13:07:43.841003Z"
    },
    "tags": []
   },
   "outputs": [
    {
     "name": "stdout",
     "output_type": "stream",
     "text": [
      "[ 1  2  3 46  6  6  6  6]\n"
     ]
    },
    {
     "data": {
      "text/plain": [
       "dtype('int8')"
      ]
     },
     "execution_count": 165,
     "metadata": {},
     "output_type": "execute_result"
    }
   ],
   "source": [
    "c = np.array([1,2,3,46,6,6,6,6],dtype='int8') #int 32 bytes \n",
    "print(c)\n",
    "c.dtype"
   ]
  },
  {
   "cell_type": "markdown",
   "id": "1731e95e-ceb3-4940-a7b8-1448c810973a",
   "metadata": {},
   "source": [
    "#### Get size of variable"
   ]
  },
  {
   "cell_type": "code",
   "execution_count": 166,
   "id": "42646310-fe90-4638-9d99-488ab61d8208",
   "metadata": {
    "execution": {
     "iopub.execute_input": "2023-10-02T13:07:43.856590Z",
     "iopub.status.busy": "2023-10-02T13:07:43.855590Z",
     "iopub.status.idle": "2023-10-02T13:07:43.871658Z",
     "shell.execute_reply": "2023-10-02T13:07:43.870658Z",
     "shell.execute_reply.started": "2023-10-02T13:07:43.856590Z"
    },
    "tags": []
   },
   "outputs": [
    {
     "data": {
      "text/plain": [
       "1"
      ]
     },
     "execution_count": 166,
     "metadata": {},
     "output_type": "execute_result"
    }
   ],
   "source": [
    "c.itemsize #It is because it is initialize with int32 So 32/8 = 4 bites"
   ]
  },
  {
   "cell_type": "markdown",
   "id": "ffc43123-9e88-46ce-a513-7877bb2fe121",
   "metadata": {},
   "source": [
    "#### Get the total size"
   ]
  },
  {
   "cell_type": "code",
   "execution_count": 167,
   "id": "3a0d1240-b34f-4f50-b83e-5b58ef105494",
   "metadata": {
    "execution": {
     "iopub.execute_input": "2023-10-02T13:07:43.873205Z",
     "iopub.status.busy": "2023-10-02T13:07:43.873205Z",
     "iopub.status.idle": "2023-10-02T13:07:43.886313Z",
     "shell.execute_reply": "2023-10-02T13:07:43.886313Z",
     "shell.execute_reply.started": "2023-10-02T13:07:43.873205Z"
    },
    "tags": []
   },
   "outputs": [
    {
     "data": {
      "text/plain": [
       "8"
      ]
     },
     "execution_count": 167,
     "metadata": {},
     "output_type": "execute_result"
    }
   ],
   "source": [
    "\n",
    "c.nbytes #It is like len in lists"
   ]
  },
  {
   "cell_type": "markdown",
   "id": "dc799c74-32b3-45d4-92df-5264192b5117",
   "metadata": {},
   "source": [
    "# Accessing/Changing specific elements, rows, columns etc"
   ]
  },
  {
   "cell_type": "code",
   "execution_count": 168,
   "id": "a04f786b-a30c-4e03-b098-34688acdbec8",
   "metadata": {
    "execution": {
     "iopub.execute_input": "2023-10-02T13:07:43.890705Z",
     "iopub.status.busy": "2023-10-02T13:07:43.890705Z",
     "iopub.status.idle": "2023-10-02T13:07:43.901977Z",
     "shell.execute_reply": "2023-10-02T13:07:43.901977Z",
     "shell.execute_reply.started": "2023-10-02T13:07:43.890705Z"
    },
    "tags": []
   },
   "outputs": [
    {
     "name": "stdout",
     "output_type": "stream",
     "text": [
      "[[ 1  2  3  4  5  6  7]\n",
      " [ 8  9 10 11 12 13 14]]\n"
     ]
    }
   ],
   "source": [
    "a2 = np.array([[1,2,3,4,5,6,7],[8,9,10,11,12,13,14]])\n",
    "print(a2)"
   ]
  },
  {
   "cell_type": "markdown",
   "id": "5b700135-bf56-44f6-94bb-ed62aa88049d",
   "metadata": {
    "execution": {
     "iopub.execute_input": "2023-10-02T09:54:35.599219Z",
     "iopub.status.busy": "2023-10-02T09:54:35.598660Z",
     "iopub.status.idle": "2023-10-02T09:54:35.612733Z",
     "shell.execute_reply": "2023-10-02T09:54:35.611724Z",
     "shell.execute_reply.started": "2023-10-02T09:54:35.599219Z"
    },
    "tags": []
   },
   "source": [
    "#### Get a specific element [row, column]"
   ]
  },
  {
   "cell_type": "code",
   "execution_count": 169,
   "id": "6a68a010-3e1d-45db-ba2c-4d1c7032bc84",
   "metadata": {
    "execution": {
     "iopub.execute_input": "2023-10-02T13:07:43.903961Z",
     "iopub.status.busy": "2023-10-02T13:07:43.903961Z",
     "iopub.status.idle": "2023-10-02T13:07:43.918147Z",
     "shell.execute_reply": "2023-10-02T13:07:43.917168Z",
     "shell.execute_reply.started": "2023-10-02T13:07:43.903961Z"
    },
    "tags": []
   },
   "outputs": [
    {
     "data": {
      "text/plain": [
       "11"
      ]
     },
     "execution_count": 169,
     "metadata": {},
     "output_type": "execute_result"
    }
   ],
   "source": [
    "a2[1,3]"
   ]
  },
  {
   "cell_type": "markdown",
   "id": "a64b373b-838a-41f4-ae88-674c6518d22f",
   "metadata": {
    "execution": {
     "iopub.execute_input": "2023-10-02T09:54:35.621733Z",
     "iopub.status.busy": "2023-10-02T09:54:35.620733Z",
     "iopub.status.idle": "2023-10-02T09:54:35.643952Z",
     "shell.execute_reply": "2023-10-02T09:54:35.642951Z",
     "shell.execute_reply.started": "2023-10-02T09:54:35.621733Z"
    },
    "tags": []
   },
   "source": [
    "#### Get a specific row"
   ]
  },
  {
   "cell_type": "code",
   "execution_count": 170,
   "id": "d352795a-b0e2-40e9-b435-d84615377905",
   "metadata": {
    "execution": {
     "iopub.execute_input": "2023-10-02T13:07:43.919145Z",
     "iopub.status.busy": "2023-10-02T13:07:43.918147Z",
     "iopub.status.idle": "2023-10-02T13:07:43.933879Z",
     "shell.execute_reply": "2023-10-02T13:07:43.932874Z",
     "shell.execute_reply.started": "2023-10-02T13:07:43.919145Z"
    },
    "tags": []
   },
   "outputs": [
    {
     "data": {
      "text/plain": [
       "array([1, 2, 3, 4, 5, 6, 7])"
      ]
     },
     "execution_count": 170,
     "metadata": {},
     "output_type": "execute_result"
    }
   ],
   "source": [
    "a2[0,:]"
   ]
  },
  {
   "cell_type": "markdown",
   "id": "8174d978-8ac9-4e45-915e-1e99c3f99026",
   "metadata": {
    "execution": {
     "iopub.execute_input": "2023-10-02T09:54:35.646425Z",
     "iopub.status.busy": "2023-10-02T09:54:35.646425Z",
     "iopub.status.idle": "2023-10-02T09:54:35.661325Z",
     "shell.execute_reply": "2023-10-02T09:54:35.658848Z",
     "shell.execute_reply.started": "2023-10-02T09:54:35.646425Z"
    },
    "tags": []
   },
   "source": [
    "#### Get a specific column"
   ]
  },
  {
   "cell_type": "code",
   "execution_count": 171,
   "id": "0d427b63-7a31-4b54-8080-7de3fd2d13b0",
   "metadata": {
    "execution": {
     "iopub.execute_input": "2023-10-02T13:07:43.934875Z",
     "iopub.status.busy": "2023-10-02T13:07:43.934875Z",
     "iopub.status.idle": "2023-10-02T13:07:43.948879Z",
     "shell.execute_reply": "2023-10-02T13:07:43.948879Z",
     "shell.execute_reply.started": "2023-10-02T13:07:43.934875Z"
    },
    "tags": []
   },
   "outputs": [
    {
     "data": {
      "text/plain": [
       "array([ 3, 10])"
      ]
     },
     "execution_count": 171,
     "metadata": {},
     "output_type": "execute_result"
    }
   ],
   "source": [
    "a2[:,2]"
   ]
  },
  {
   "cell_type": "markdown",
   "id": "8b0a564e-c504-49f4-9372-4a99e503c293",
   "metadata": {
    "execution": {
     "iopub.execute_input": "2023-10-02T09:54:35.665473Z",
     "iopub.status.busy": "2023-10-02T09:54:35.664473Z",
     "iopub.status.idle": "2023-10-02T09:54:35.690962Z",
     "shell.execute_reply": "2023-10-02T09:54:35.689962Z",
     "shell.execute_reply.started": "2023-10-02T09:54:35.665473Z"
    },
    "tags": []
   },
   "source": [
    "#### Using negative index [startindex:endindex:stepsize]"
   ]
  },
  {
   "cell_type": "code",
   "execution_count": 172,
   "id": "4d3812db-330d-4dc1-a369-53a6a806e8ee",
   "metadata": {
    "execution": {
     "iopub.execute_input": "2023-10-02T13:07:43.950899Z",
     "iopub.status.busy": "2023-10-02T13:07:43.949893Z",
     "iopub.status.idle": "2023-10-02T13:07:43.965909Z",
     "shell.execute_reply": "2023-10-02T13:07:43.964902Z",
     "shell.execute_reply.started": "2023-10-02T13:07:43.950899Z"
    },
    "tags": []
   },
   "outputs": [
    {
     "data": {
      "text/plain": [
       "array([[2],\n",
       "       [9]])"
      ]
     },
     "execution_count": 172,
     "metadata": {},
     "output_type": "execute_result"
    }
   ],
   "source": [
    "a2[:,1:4-2]"
   ]
  },
  {
   "cell_type": "markdown",
   "id": "287444a8-9222-4e2c-afe7-23c44029b4dc",
   "metadata": {
    "execution": {
     "iopub.execute_input": "2023-10-02T09:54:35.693515Z",
     "iopub.status.busy": "2023-10-02T09:54:35.692286Z",
     "iopub.status.idle": "2023-10-02T09:54:35.711226Z",
     "shell.execute_reply": "2023-10-02T09:54:35.710229Z",
     "shell.execute_reply.started": "2023-10-02T09:54:35.693515Z"
    },
    "tags": []
   },
   "source": [
    "#### Changing the specific element "
   ]
  },
  {
   "cell_type": "code",
   "execution_count": 173,
   "id": "90a561ca-0462-4296-882c-e32b9155312e",
   "metadata": {
    "execution": {
     "iopub.execute_input": "2023-10-02T13:07:43.966911Z",
     "iopub.status.busy": "2023-10-02T13:07:43.965909Z",
     "iopub.status.idle": "2023-10-02T13:07:43.981213Z",
     "shell.execute_reply": "2023-10-02T13:07:43.980108Z",
     "shell.execute_reply.started": "2023-10-02T13:07:43.966911Z"
    },
    "tags": []
   },
   "outputs": [
    {
     "name": "stdout",
     "output_type": "stream",
     "text": [
      "[[  1   2   3   4   5   6   7]\n",
      " [  8   9  10  11 100  13  14]]\n"
     ]
    }
   ],
   "source": [
    "a2[1,4] = 100 #1st row and 4th column element\n",
    "print(a2)"
   ]
  },
  {
   "cell_type": "markdown",
   "id": "437a73ce-bb2f-486d-a3b2-393d4e28a7df",
   "metadata": {
    "execution": {
     "iopub.execute_input": "2023-10-02T09:54:35.715270Z",
     "iopub.status.busy": "2023-10-02T09:54:35.715270Z",
     "iopub.status.idle": "2023-10-02T09:54:35.739814Z",
     "shell.execute_reply": "2023-10-02T09:54:35.736301Z",
     "shell.execute_reply.started": "2023-10-02T09:54:35.715270Z"
    },
    "tags": []
   },
   "source": [
    "#### Changing entire columns elements"
   ]
  },
  {
   "cell_type": "code",
   "execution_count": 174,
   "id": "da77245b-a257-47e0-ba72-9b0b86bdac02",
   "metadata": {
    "execution": {
     "iopub.execute_input": "2023-10-02T13:07:43.982222Z",
     "iopub.status.busy": "2023-10-02T13:07:43.982222Z",
     "iopub.status.idle": "2023-10-02T13:07:43.996032Z",
     "shell.execute_reply": "2023-10-02T13:07:43.996032Z",
     "shell.execute_reply.started": "2023-10-02T13:07:43.982222Z"
    },
    "tags": []
   },
   "outputs": [
    {
     "name": "stdout",
     "output_type": "stream",
     "text": [
      "[[  1   2 209   4   5   6   7]\n",
      " [  8   9 203  11 100  13  14]]\n"
     ]
    }
   ],
   "source": [
    "a2[:,2] = [209,203]\n",
    "print(a2)"
   ]
  },
  {
   "cell_type": "markdown",
   "id": "441db116-9002-4892-bfc3-a221b8ffca1a",
   "metadata": {},
   "source": [
    "#### 3 d example"
   ]
  },
  {
   "cell_type": "code",
   "execution_count": 175,
   "id": "0d3f9cc7-b2ef-416c-855c-8bd5c3932b28",
   "metadata": {
    "execution": {
     "iopub.execute_input": "2023-10-02T13:07:44.000447Z",
     "iopub.status.busy": "2023-10-02T13:07:43.998438Z",
     "iopub.status.idle": "2023-10-02T13:07:44.012516Z",
     "shell.execute_reply": "2023-10-02T13:07:44.011515Z",
     "shell.execute_reply.started": "2023-10-02T13:07:44.000447Z"
    },
    "tags": []
   },
   "outputs": [
    {
     "name": "stdout",
     "output_type": "stream",
     "text": [
      "[[[1 2]\n",
      "  [3 4]]\n",
      "\n",
      " [[5 6]\n",
      "  [7 8]]]\n"
     ]
    }
   ],
   "source": [
    "b3 = np.array([[[1,2],[3,4]],[[5,6],[7,8]]])\n",
    "print(b3)"
   ]
  },
  {
   "cell_type": "markdown",
   "id": "d8f4fd59-6fea-4969-af78-c4f75a124b9f",
   "metadata": {
    "execution": {
     "iopub.execute_input": "2023-10-02T09:54:35.774978Z",
     "iopub.status.busy": "2023-10-02T09:54:35.771970Z",
     "iopub.status.idle": "2023-10-02T09:54:35.783912Z",
     "shell.execute_reply": "2023-10-02T09:54:35.782906Z",
     "shell.execute_reply.started": "2023-10-02T09:54:35.774978Z"
    },
    "tags": []
   },
   "source": [
    "#### Get specific element "
   ]
  },
  {
   "cell_type": "code",
   "execution_count": 176,
   "id": "f02fc5b1-5881-43e6-839d-90072902fd3c",
   "metadata": {
    "execution": {
     "iopub.execute_input": "2023-10-02T13:07:44.015704Z",
     "iopub.status.busy": "2023-10-02T13:07:44.014705Z",
     "iopub.status.idle": "2023-10-02T13:07:44.028515Z",
     "shell.execute_reply": "2023-10-02T13:07:44.027315Z",
     "shell.execute_reply.started": "2023-10-02T13:07:44.015704Z"
    },
    "tags": []
   },
   "outputs": [
    {
     "data": {
      "text/plain": [
       "3"
      ]
     },
     "execution_count": 176,
     "metadata": {},
     "output_type": "execute_result"
    }
   ],
   "source": [
    "b3[0,1,0]"
   ]
  },
  {
   "cell_type": "code",
   "execution_count": 177,
   "id": "81dd617d-024f-4510-b0a8-97f3df526db2",
   "metadata": {
    "execution": {
     "iopub.execute_input": "2023-10-02T13:07:44.029522Z",
     "iopub.status.busy": "2023-10-02T13:07:44.029522Z",
     "iopub.status.idle": "2023-10-02T13:07:44.043522Z",
     "shell.execute_reply": "2023-10-02T13:07:44.042521Z",
     "shell.execute_reply.started": "2023-10-02T13:07:44.029522Z"
    },
    "tags": []
   },
   "outputs": [
    {
     "data": {
      "text/plain": [
       "array([3, 7])"
      ]
     },
     "execution_count": 177,
     "metadata": {},
     "output_type": "execute_result"
    }
   ],
   "source": [
    "b3[:,1,0]"
   ]
  },
  {
   "cell_type": "code",
   "execution_count": 178,
   "id": "da5f58a0-c9ee-4956-aa2c-be27b5749259",
   "metadata": {
    "execution": {
     "iopub.execute_input": "2023-10-02T13:07:44.045522Z",
     "iopub.status.busy": "2023-10-02T13:07:44.044524Z",
     "iopub.status.idle": "2023-10-02T13:07:44.058523Z",
     "shell.execute_reply": "2023-10-02T13:07:44.057540Z",
     "shell.execute_reply.started": "2023-10-02T13:07:44.045522Z"
    },
    "tags": []
   },
   "outputs": [
    {
     "data": {
      "text/plain": [
       "array([[1, 2],\n",
       "       [3, 4]])"
      ]
     },
     "execution_count": 178,
     "metadata": {},
     "output_type": "execute_result"
    }
   ],
   "source": [
    "b3[0] #or b3[0,:,:]"
   ]
  },
  {
   "cell_type": "markdown",
   "id": "cfdc0c16-cfab-4d2a-a9cf-80b147619a79",
   "metadata": {
    "execution": {
     "iopub.execute_input": "2023-10-02T09:54:35.836889Z",
     "iopub.status.busy": "2023-10-02T09:54:35.832469Z",
     "iopub.status.idle": "2023-10-02T09:54:35.846770Z",
     "shell.execute_reply": "2023-10-02T09:54:35.845769Z",
     "shell.execute_reply.started": "2023-10-02T09:54:35.836889Z"
    },
    "tags": []
   },
   "source": [
    "#### Replacing the elements"
   ]
  },
  {
   "cell_type": "code",
   "execution_count": 179,
   "id": "1dea3ad6-b5ce-4f5e-886b-eb9a67beb102",
   "metadata": {
    "execution": {
     "iopub.execute_input": "2023-10-02T13:07:44.059525Z",
     "iopub.status.busy": "2023-10-02T13:07:44.058523Z",
     "iopub.status.idle": "2023-10-02T13:07:44.073852Z",
     "shell.execute_reply": "2023-10-02T13:07:44.072851Z",
     "shell.execute_reply.started": "2023-10-02T13:07:44.059525Z"
    },
    "tags": []
   },
   "outputs": [
    {
     "name": "stdout",
     "output_type": "stream",
     "text": [
      "[[[ 1  2]\n",
      "  [ 3  4]]\n",
      "\n",
      " [[20 30]\n",
      "  [40 68]]]\n"
     ]
    }
   ],
   "source": [
    "b3[1] = [[20,30],[40,68]]\n",
    "print(b3)"
   ]
  },
  {
   "cell_type": "markdown",
   "id": "51244b8d-9b41-4ee9-b6ce-653b0912b2ff",
   "metadata": {},
   "source": [
    "# Initializing Different types of Arrays "
   ]
  },
  {
   "cell_type": "markdown",
   "id": "21f88306-45aa-4f04-a51d-44d8e49d3a62",
   "metadata": {},
   "source": [
    "#### All 0's matrix "
   ]
  },
  {
   "cell_type": "code",
   "execution_count": 180,
   "id": "1e3c130e-9954-4a55-944e-b2622ac00afa",
   "metadata": {
    "execution": {
     "iopub.execute_input": "2023-10-02T13:07:44.075850Z",
     "iopub.status.busy": "2023-10-02T13:07:44.074850Z",
     "iopub.status.idle": "2023-10-02T13:07:44.088101Z",
     "shell.execute_reply": "2023-10-02T13:07:44.088101Z",
     "shell.execute_reply.started": "2023-10-02T13:07:44.075850Z"
    },
    "tags": []
   },
   "outputs": [
    {
     "data": {
      "text/plain": [
       "array([0., 0., 0.])"
      ]
     },
     "execution_count": 180,
     "metadata": {},
     "output_type": "execute_result"
    }
   ],
   "source": [
    "np.zeros(3) # 1 D"
   ]
  },
  {
   "cell_type": "code",
   "execution_count": 181,
   "id": "9967d98b-d9a4-4c4f-98b4-6bbd887c673b",
   "metadata": {
    "execution": {
     "iopub.execute_input": "2023-10-02T13:07:44.090281Z",
     "iopub.status.busy": "2023-10-02T13:07:44.089272Z",
     "iopub.status.idle": "2023-10-02T13:07:44.103557Z",
     "shell.execute_reply": "2023-10-02T13:07:44.103557Z",
     "shell.execute_reply.started": "2023-10-02T13:07:44.090281Z"
    },
    "tags": []
   },
   "outputs": [
    {
     "data": {
      "text/plain": [
       "array([[0., 0., 0.],\n",
       "       [0., 0., 0.]])"
      ]
     },
     "execution_count": 181,
     "metadata": {},
     "output_type": "execute_result"
    }
   ],
   "source": [
    "np.zeros((2,3)) #3 D"
   ]
  },
  {
   "cell_type": "code",
   "execution_count": 182,
   "id": "5eb931f9-b086-4bb8-8af6-1822d63fccdf",
   "metadata": {
    "execution": {
     "iopub.execute_input": "2023-10-02T13:07:44.105881Z",
     "iopub.status.busy": "2023-10-02T13:07:44.104869Z",
     "iopub.status.idle": "2023-10-02T13:07:44.120255Z",
     "shell.execute_reply": "2023-10-02T13:07:44.119205Z",
     "shell.execute_reply.started": "2023-10-02T13:07:44.105881Z"
    },
    "tags": []
   },
   "outputs": [
    {
     "data": {
      "text/plain": [
       "array([[[[0., 0., 0., 0.],\n",
       "         [0., 0., 0., 0.],\n",
       "         [0., 0., 0., 0.]],\n",
       "\n",
       "        [[0., 0., 0., 0.],\n",
       "         [0., 0., 0., 0.],\n",
       "         [0., 0., 0., 0.]]]])"
      ]
     },
     "execution_count": 182,
     "metadata": {},
     "output_type": "execute_result"
    }
   ],
   "source": [
    "np.zeros((1,2,3,4)) #4 D"
   ]
  },
  {
   "cell_type": "markdown",
   "id": "170cecca-0292-415d-879c-6ca5f1deca6e",
   "metadata": {},
   "source": [
    "#### All 1's matrix "
   ]
  },
  {
   "cell_type": "code",
   "execution_count": 183,
   "id": "da976d91-b27a-4c88-a3e7-c2cbe3ca4561",
   "metadata": {
    "execution": {
     "iopub.execute_input": "2023-10-02T13:07:44.121263Z",
     "iopub.status.busy": "2023-10-02T13:07:44.121263Z",
     "iopub.status.idle": "2023-10-02T13:07:44.138005Z",
     "shell.execute_reply": "2023-10-02T13:07:44.138005Z",
     "shell.execute_reply.started": "2023-10-02T13:07:44.121263Z"
    },
    "tags": []
   },
   "outputs": [
    {
     "data": {
      "text/plain": [
       "array([1., 1.])"
      ]
     },
     "execution_count": 183,
     "metadata": {},
     "output_type": "execute_result"
    }
   ],
   "source": [
    "np.ones(2)"
   ]
  },
  {
   "cell_type": "code",
   "execution_count": 184,
   "id": "6ff53170-87e0-42ac-ab0a-cb36114a8e5e",
   "metadata": {
    "execution": {
     "iopub.execute_input": "2023-10-02T13:07:44.140008Z",
     "iopub.status.busy": "2023-10-02T13:07:44.140008Z",
     "iopub.status.idle": "2023-10-02T13:07:44.151600Z",
     "shell.execute_reply": "2023-10-02T13:07:44.150601Z",
     "shell.execute_reply.started": "2023-10-02T13:07:44.140008Z"
    },
    "tags": []
   },
   "outputs": [
    {
     "data": {
      "text/plain": [
       "array([[1, 1, 1, 1],\n",
       "       [1, 1, 1, 1],\n",
       "       [1, 1, 1, 1],\n",
       "       [1, 1, 1, 1]])"
      ]
     },
     "execution_count": 184,
     "metadata": {},
     "output_type": "execute_result"
    }
   ],
   "source": [
    "np.ones((4,4),dtype='int32')"
   ]
  },
  {
   "cell_type": "markdown",
   "id": "797929bb-33fa-4335-8ab2-8a3709c10243",
   "metadata": {},
   "source": [
    "Any other number "
   ]
  },
  {
   "cell_type": "code",
   "execution_count": 185,
   "id": "8f0243ce-0d1b-46a4-b8bc-72a604b28a8e",
   "metadata": {
    "execution": {
     "iopub.execute_input": "2023-10-02T13:07:44.152597Z",
     "iopub.status.busy": "2023-10-02T13:07:44.152597Z",
     "iopub.status.idle": "2023-10-02T13:07:44.167134Z",
     "shell.execute_reply": "2023-10-02T13:07:44.166133Z",
     "shell.execute_reply.started": "2023-10-02T13:07:44.152597Z"
    }
   },
   "outputs": [
    {
     "data": {
      "text/plain": [
       "array([[99, 99, 99],\n",
       "       [99, 99, 99],\n",
       "       [99, 99, 99]])"
      ]
     },
     "execution_count": 185,
     "metadata": {},
     "output_type": "execute_result"
    }
   ],
   "source": [
    "np.full((3,3),99)   #npfull((row,column),number)"
   ]
  },
  {
   "cell_type": "markdown",
   "id": "3a0edd64-a0cb-41e6-9a63-8f4e41245fb7",
   "metadata": {},
   "source": [
    "#### Any other number (full_like)"
   ]
  },
  {
   "cell_type": "code",
   "execution_count": 186,
   "id": "29422bfa-58b5-4068-bdbc-c4383d3a78c0",
   "metadata": {
    "execution": {
     "iopub.execute_input": "2023-10-02T13:07:44.174133Z",
     "iopub.status.busy": "2023-10-02T13:07:44.173133Z",
     "iopub.status.idle": "2023-10-02T13:07:44.197463Z",
     "shell.execute_reply": "2023-10-02T13:07:44.196463Z",
     "shell.execute_reply.started": "2023-10-02T13:07:44.174133Z"
    }
   },
   "outputs": [
    {
     "data": {
      "text/plain": [
       "array([4, 4, 4, 4])"
      ]
     },
     "execution_count": 186,
     "metadata": {},
     "output_type": "execute_result"
    }
   ],
   "source": [
    "np.full_like(a, 4 ) #full_like(defined array, number) #It will take the shape of already defined array variable"
   ]
  },
  {
   "cell_type": "markdown",
   "id": "48c71d63-5cc1-43b0-bbf6-576302d9b404",
   "metadata": {},
   "source": [
    "#### Random Decimal numbers"
   ]
  },
  {
   "cell_type": "code",
   "execution_count": 187,
   "id": "81ff6afa-6bae-4256-a8c7-e498de46f26b",
   "metadata": {
    "execution": {
     "iopub.execute_input": "2023-10-02T13:07:44.198463Z",
     "iopub.status.busy": "2023-10-02T13:07:44.198463Z",
     "iopub.status.idle": "2023-10-02T13:07:44.213467Z",
     "shell.execute_reply": "2023-10-02T13:07:44.212482Z",
     "shell.execute_reply.started": "2023-10-02T13:07:44.198463Z"
    }
   },
   "outputs": [
    {
     "data": {
      "text/plain": [
       "array([[0.77422961, 0.59482467],\n",
       "       [0.23473232, 0.24127701],\n",
       "       [0.13849835, 0.16297354],\n",
       "       [0.95402683, 0.1056482 ]])"
      ]
     },
     "execution_count": 187,
     "metadata": {},
     "output_type": "execute_result"
    }
   ],
   "source": [
    "np.random.rand(4,2) #generate the random array of given shape"
   ]
  },
  {
   "cell_type": "markdown",
   "id": "c2c82250-aa08-4569-b1fe-d3d136304bc5",
   "metadata": {},
   "source": [
    "#### Random integer numbers"
   ]
  },
  {
   "cell_type": "code",
   "execution_count": 188,
   "id": "855379a9-9bf1-4998-ab59-190560756fdd",
   "metadata": {
    "execution": {
     "iopub.execute_input": "2023-10-02T13:07:44.224467Z",
     "iopub.status.busy": "2023-10-02T13:07:44.222465Z",
     "iopub.status.idle": "2023-10-02T13:07:44.273472Z",
     "shell.execute_reply": "2023-10-02T13:07:44.260464Z",
     "shell.execute_reply.started": "2023-10-02T13:07:44.224467Z"
    }
   },
   "outputs": [
    {
     "data": {
      "text/plain": [
       "array([[1, 3, 4, 4],\n",
       "       [4, 3, 3, 2],\n",
       "       [4, 0, 2, 0]])"
      ]
     },
     "execution_count": 188,
     "metadata": {},
     "output_type": "execute_result"
    }
   ],
   "source": [
    "np.random.randint(7,size=(3,4)) #np.random.randint(startfrom,end,size_of_array)"
   ]
  },
  {
   "cell_type": "markdown",
   "id": "ed82cc4f-7f69-431b-b9ba-bcfd93ce6698",
   "metadata": {},
   "source": [
    "#### Identity matrix"
   ]
  },
  {
   "cell_type": "code",
   "execution_count": 189,
   "id": "3eedf116-6d0b-42b8-a2b6-f3f129ac59ac",
   "metadata": {
    "execution": {
     "iopub.execute_input": "2023-10-02T13:07:44.276472Z",
     "iopub.status.busy": "2023-10-02T13:07:44.276472Z",
     "iopub.status.idle": "2023-10-02T13:07:44.292291Z",
     "shell.execute_reply": "2023-10-02T13:07:44.291291Z",
     "shell.execute_reply.started": "2023-10-02T13:07:44.276472Z"
    }
   },
   "outputs": [
    {
     "data": {
      "text/plain": [
       "array([[1., 0., 0., 0.],\n",
       "       [0., 1., 0., 0.],\n",
       "       [0., 0., 1., 0.],\n",
       "       [0., 0., 0., 1.]])"
      ]
     },
     "execution_count": 189,
     "metadata": {},
     "output_type": "execute_result"
    }
   ],
   "source": [
    "np.identity(4) "
   ]
  },
  {
   "cell_type": "markdown",
   "id": "6cc42798-4909-4f42-a77e-1fdd086d34a7",
   "metadata": {
    "execution": {
     "iopub.execute_input": "2023-10-02T10:03:32.990610Z",
     "iopub.status.busy": "2023-10-02T10:03:32.990610Z",
     "iopub.status.idle": "2023-10-02T10:03:33.014872Z",
     "shell.execute_reply": "2023-10-02T10:03:33.012950Z",
     "shell.execute_reply.started": "2023-10-02T10:03:32.990610Z"
    }
   },
   "source": [
    "#### Repeat array "
   ]
  },
  {
   "cell_type": "code",
   "execution_count": 190,
   "id": "e9ce5e84-ef4e-4da6-b987-fc4e9ce277b0",
   "metadata": {
    "execution": {
     "iopub.execute_input": "2023-10-02T13:07:44.297290Z",
     "iopub.status.busy": "2023-10-02T13:07:44.294291Z",
     "iopub.status.idle": "2023-10-02T13:07:44.312054Z",
     "shell.execute_reply": "2023-10-02T13:07:44.309775Z",
     "shell.execute_reply.started": "2023-10-02T13:07:44.297290Z"
    }
   },
   "outputs": [
    {
     "name": "stdout",
     "output_type": "stream",
     "text": [
      "[[1 2 3]\n",
      " [1 2 3]\n",
      " [1 2 3]]\n"
     ]
    }
   ],
   "source": [
    "arr = np.array([[1,2,3]])\n",
    "r1 = np.repeat(arr,3,axis=0)\n",
    "print(r1)"
   ]
  },
  {
   "cell_type": "markdown",
   "id": "ccf297ef-c705-42d0-a9c3-21f6893f4e72",
   "metadata": {
    "execution": {
     "iopub.execute_input": "2023-10-02T10:14:59.226524Z",
     "iopub.status.busy": "2023-10-02T10:14:59.226524Z",
     "iopub.status.idle": "2023-10-02T10:14:59.245862Z",
     "shell.execute_reply": "2023-10-02T10:14:59.244599Z",
     "shell.execute_reply.started": "2023-10-02T10:14:59.226524Z"
    }
   },
   "source": [
    "#### Exercise 1 using above functions"
   ]
  },
  {
   "cell_type": "code",
   "execution_count": 191,
   "id": "c25e3fe0-0b8e-4b36-804a-5196c98df085",
   "metadata": {
    "execution": {
     "iopub.execute_input": "2023-10-02T13:07:44.317579Z",
     "iopub.status.busy": "2023-10-02T13:07:44.312560Z",
     "iopub.status.idle": "2023-10-02T13:07:44.338855Z",
     "shell.execute_reply": "2023-10-02T13:07:44.337855Z",
     "shell.execute_reply.started": "2023-10-02T13:07:44.317579Z"
    }
   },
   "outputs": [
    {
     "name": "stdout",
     "output_type": "stream",
     "text": [
      "[[1 1 1 1 1]\n",
      " [1 0 0 0 1]\n",
      " [1 0 9 0 1]\n",
      " [1 0 0 0 1]\n",
      " [1 1 1 1 1]]\n",
      "(5, 5)\n"
     ]
    }
   ],
   "source": [
    " #Example matrix in 5*5 \n",
    "array = np.array([[1,1,1,1,1],\n",
    "                [1,0,0,0,1],\n",
    "                 [1,0,9,0,1],\n",
    "                 [1,0,0,0,1],\n",
    "                 [1,1,1,1,1]])\n",
    "print(array)\n",
    "print(array.shape)"
   ]
  },
  {
   "cell_type": "code",
   "execution_count": 192,
   "id": "06991e88-64f0-4317-835c-182f58644040",
   "metadata": {
    "execution": {
     "iopub.execute_input": "2023-10-02T13:07:44.339854Z",
     "iopub.status.busy": "2023-10-02T13:07:44.339854Z",
     "iopub.status.idle": "2023-10-02T13:07:44.353660Z",
     "shell.execute_reply": "2023-10-02T13:07:44.353660Z",
     "shell.execute_reply.started": "2023-10-02T13:07:44.339854Z"
    }
   },
   "outputs": [
    {
     "name": "stdout",
     "output_type": "stream",
     "text": [
      "[[1. 1. 1. 1. 1.]\n",
      " [1. 0. 0. 0. 1.]\n",
      " [1. 0. 9. 0. 1.]\n",
      " [1. 0. 0. 0. 1.]\n",
      " [1. 1. 1. 1. 1.]]\n"
     ]
    }
   ],
   "source": [
    "#You can get the above array in other way\n",
    "output = np.ones((5,5))\n",
    "#print(output)\n",
    "\n",
    "z = np.zeros((3,3))\n",
    "z[1,1] = 9\n",
    "#print(z)\n",
    "\n",
    "output[1:4,1:4] = z\n",
    "print(output)"
   ]
  },
  {
   "cell_type": "markdown",
   "id": "213e61e5-864a-4404-ab86-9697dd27a812",
   "metadata": {},
   "source": [
    "#### Be careful when copying arrays"
   ]
  },
  {
   "cell_type": "code",
   "execution_count": 193,
   "id": "49637c8e-6427-4191-9362-d8ed7da912a7",
   "metadata": {
    "execution": {
     "iopub.execute_input": "2023-10-02T13:07:44.355918Z",
     "iopub.status.busy": "2023-10-02T13:07:44.354910Z",
     "iopub.status.idle": "2023-10-02T13:07:44.432585Z",
     "shell.execute_reply": "2023-10-02T13:07:44.431585Z",
     "shell.execute_reply.started": "2023-10-02T13:07:44.355918Z"
    }
   },
   "outputs": [
    {
     "name": "stdout",
     "output_type": "stream",
     "text": [
      "[100   2   3]\n"
     ]
    }
   ],
   "source": [
    "a = np.array([1,2,3])\n",
    "b = a #Copied elements of a to b using assignment operator \n",
    "b[0] = 100 #Changed the value in b array\n",
    "print(a) #Printed the a array but it is also changed"
   ]
  },
  {
   "cell_type": "code",
   "execution_count": 194,
   "id": "af07064b-9567-49d2-85da-31d79ba60e8e",
   "metadata": {
    "execution": {
     "iopub.execute_input": "2023-10-02T13:07:44.437226Z",
     "iopub.status.busy": "2023-10-02T13:07:44.435038Z",
     "iopub.status.idle": "2023-10-02T13:07:44.481144Z",
     "shell.execute_reply": "2023-10-02T13:07:44.479638Z",
     "shell.execute_reply.started": "2023-10-02T13:07:44.437226Z"
    }
   },
   "outputs": [
    {
     "name": "stdout",
     "output_type": "stream",
     "text": [
      "[3 4 5 6]\n"
     ]
    }
   ],
   "source": [
    "#To avoid the above problem\n",
    "d = np.array([3,4,5,6])\n",
    "c = d.copy()\n",
    "print(c)"
   ]
  },
  {
   "cell_type": "markdown",
   "id": "9c96b995-7633-4ed9-a017-671ab4125e5d",
   "metadata": {},
   "source": [
    "# Mathematics"
   ]
  },
  {
   "cell_type": "code",
   "execution_count": 195,
   "id": "6930d83a-f358-41b4-a466-491287ae2a18",
   "metadata": {
    "execution": {
     "iopub.execute_input": "2023-10-02T13:07:44.483043Z",
     "iopub.status.busy": "2023-10-02T13:07:44.483043Z",
     "iopub.status.idle": "2023-10-02T13:07:44.496408Z",
     "shell.execute_reply": "2023-10-02T13:07:44.495408Z",
     "shell.execute_reply.started": "2023-10-02T13:07:44.483043Z"
    }
   },
   "outputs": [
    {
     "name": "stdout",
     "output_type": "stream",
     "text": [
      "[10 20 30 40 50]\n"
     ]
    }
   ],
   "source": [
    "z = np.array([10,20,30,40,50])\n",
    "print(z)"
   ]
  },
  {
   "cell_type": "code",
   "execution_count": 237,
   "id": "db9a9461-9824-4034-b04c-bb224f18b33d",
   "metadata": {
    "execution": {
     "iopub.execute_input": "2023-10-02T13:17:39.535913Z",
     "iopub.status.busy": "2023-10-02T13:17:39.534898Z",
     "iopub.status.idle": "2023-10-02T13:17:39.555251Z",
     "shell.execute_reply": "2023-10-02T13:17:39.553931Z",
     "shell.execute_reply.started": "2023-10-02T13:17:39.535913Z"
    }
   },
   "outputs": [
    {
     "name": "stdout",
     "output_type": "stream",
     "text": [
      "[[1]\n",
      " [2]\n",
      " [3]]\n",
      "[4 5 6]\n",
      "[[5 6 7]\n",
      " [6 7 8]\n",
      " [7 8 9]]\n"
     ]
    }
   ],
   "source": [
    "#Adding two different sized matrix\n",
    "x = np.array([[1],[2],[3]])\n",
    "print(x)\n",
    "y = np.array([4,5,6])\n",
    "print(y)\n",
    "print(x+y)"
   ]
  },
  {
   "cell_type": "code",
   "execution_count": 196,
   "id": "4a289dd7-6552-4b23-9e90-ece5c3f3f4d0",
   "metadata": {
    "execution": {
     "iopub.execute_input": "2023-10-02T13:07:44.498732Z",
     "iopub.status.busy": "2023-10-02T13:07:44.498732Z",
     "iopub.status.idle": "2023-10-02T13:07:44.512700Z",
     "shell.execute_reply": "2023-10-02T13:07:44.511358Z",
     "shell.execute_reply.started": "2023-10-02T13:07:44.498732Z"
    }
   },
   "outputs": [
    {
     "data": {
      "text/plain": [
       "array([12, 22, 32, 42, 52])"
      ]
     },
     "execution_count": 196,
     "metadata": {},
     "output_type": "execute_result"
    }
   ],
   "source": [
    "z + 2 #add 2 to all elements in array"
   ]
  },
  {
   "cell_type": "code",
   "execution_count": 197,
   "id": "d4fe7096-2bea-4779-89e1-8e95022dde12",
   "metadata": {
    "execution": {
     "iopub.execute_input": "2023-10-02T13:07:44.516711Z",
     "iopub.status.busy": "2023-10-02T13:07:44.515710Z",
     "iopub.status.idle": "2023-10-02T13:07:44.544705Z",
     "shell.execute_reply": "2023-10-02T13:07:44.543704Z",
     "shell.execute_reply.started": "2023-10-02T13:07:44.516711Z"
    }
   },
   "outputs": [
    {
     "data": {
      "text/plain": [
       "array([ 8, 18, 28, 38, 48])"
      ]
     },
     "execution_count": 197,
     "metadata": {},
     "output_type": "execute_result"
    }
   ],
   "source": [
    "z - 2 #Subtract 2 from all elements"
   ]
  },
  {
   "cell_type": "code",
   "execution_count": 198,
   "id": "70dff5f8-469f-4ec3-9074-52326f7ab3d9",
   "metadata": {
    "execution": {
     "iopub.execute_input": "2023-10-02T13:07:44.547183Z",
     "iopub.status.busy": "2023-10-02T13:07:44.546174Z",
     "iopub.status.idle": "2023-10-02T13:07:44.559321Z",
     "shell.execute_reply": "2023-10-02T13:07:44.559321Z",
     "shell.execute_reply.started": "2023-10-02T13:07:44.547183Z"
    }
   },
   "outputs": [
    {
     "data": {
      "text/plain": [
       "array([ 20,  40,  60,  80, 100])"
      ]
     },
     "execution_count": 198,
     "metadata": {},
     "output_type": "execute_result"
    }
   ],
   "source": [
    "z * 2 #Mutiply 2 with all elements"
   ]
  },
  {
   "cell_type": "code",
   "execution_count": 199,
   "id": "19f2cfe6-37eb-4f30-8ee1-7624d0e16652",
   "metadata": {
    "execution": {
     "iopub.execute_input": "2023-10-02T13:07:44.561902Z",
     "iopub.status.busy": "2023-10-02T13:07:44.561902Z",
     "iopub.status.idle": "2023-10-02T13:07:44.575822Z",
     "shell.execute_reply": "2023-10-02T13:07:44.574845Z",
     "shell.execute_reply.started": "2023-10-02T13:07:44.561902Z"
    }
   },
   "outputs": [
    {
     "data": {
      "text/plain": [
       "array([ 5., 10., 15., 20., 25.])"
      ]
     },
     "execution_count": 199,
     "metadata": {},
     "output_type": "execute_result"
    }
   ],
   "source": [
    "z / 2 # Divide 2 to all elements"
   ]
  },
  {
   "cell_type": "code",
   "execution_count": 200,
   "id": "850033fd-8a1a-4a77-8a61-55b048f35918",
   "metadata": {
    "execution": {
     "iopub.execute_input": "2023-10-02T13:07:44.576821Z",
     "iopub.status.busy": "2023-10-02T13:07:44.576821Z",
     "iopub.status.idle": "2023-10-02T13:07:44.590478Z",
     "shell.execute_reply": "2023-10-02T13:07:44.590478Z",
     "shell.execute_reply.started": "2023-10-02T13:07:44.576821Z"
    }
   },
   "outputs": [
    {
     "data": {
      "text/plain": [
       "array([ 100,  400,  900, 1600, 2500])"
      ]
     },
     "execution_count": 200,
     "metadata": {},
     "output_type": "execute_result"
    }
   ],
   "source": [
    "z ** 2 #Gives the power of 2 of all elements"
   ]
  },
  {
   "cell_type": "code",
   "execution_count": 201,
   "id": "26a6a928-297e-4262-bb76-e3ece34139f9",
   "metadata": {
    "execution": {
     "iopub.execute_input": "2023-10-02T13:07:44.592478Z",
     "iopub.status.busy": "2023-10-02T13:07:44.591476Z",
     "iopub.status.idle": "2023-10-02T13:07:44.606235Z",
     "shell.execute_reply": "2023-10-02T13:07:44.606235Z",
     "shell.execute_reply.started": "2023-10-02T13:07:44.592478Z"
    }
   },
   "outputs": [
    {
     "data": {
      "text/plain": [
       "array([ 21,  42,  63,  84, 105])"
      ]
     },
     "execution_count": 201,
     "metadata": {},
     "output_type": "execute_result"
    }
   ],
   "source": [
    "y = np.array([11,22,33,44,55])\n",
    "z+y #Adding two arrays"
   ]
  },
  {
   "cell_type": "code",
   "execution_count": 202,
   "id": "800c2ce4-ce7e-45bf-9cd2-51d8b4767715",
   "metadata": {
    "execution": {
     "iopub.execute_input": "2023-10-02T13:07:44.608670Z",
     "iopub.status.busy": "2023-10-02T13:07:44.608670Z",
     "iopub.status.idle": "2023-10-02T13:07:44.622400Z",
     "shell.execute_reply": "2023-10-02T13:07:44.621400Z",
     "shell.execute_reply.started": "2023-10-02T13:07:44.608670Z"
    }
   },
   "outputs": [
    {
     "data": {
      "text/plain": [
       "array([-0.54402111,  0.91294525, -0.98803162,  0.74511316, -0.26237485])"
      ]
     },
     "execution_count": 202,
     "metadata": {},
     "output_type": "execute_result"
    }
   ],
   "source": [
    "#Sin, cos, tan values\n",
    "np.sin(z)"
   ]
  },
  {
   "cell_type": "code",
   "execution_count": 203,
   "id": "66bc3fc2-2d2f-4751-9bec-f13aaacd20d8",
   "metadata": {
    "execution": {
     "iopub.execute_input": "2023-10-02T13:07:44.624619Z",
     "iopub.status.busy": "2023-10-02T13:07:44.623401Z",
     "iopub.status.idle": "2023-10-02T13:07:44.636815Z",
     "shell.execute_reply": "2023-10-02T13:07:44.636815Z",
     "shell.execute_reply.started": "2023-10-02T13:07:44.624619Z"
    }
   },
   "outputs": [
    {
     "data": {
      "text/plain": [
       "array([-0.83907153,  0.40808206,  0.15425145, -0.66693806,  0.96496603])"
      ]
     },
     "execution_count": 203,
     "metadata": {},
     "output_type": "execute_result"
    }
   ],
   "source": [
    "np.cos(z)"
   ]
  },
  {
   "cell_type": "code",
   "execution_count": 204,
   "id": "1d1840ee-b7d5-427f-b543-623d8768cf28",
   "metadata": {
    "execution": {
     "iopub.execute_input": "2023-10-02T13:07:44.638791Z",
     "iopub.status.busy": "2023-10-02T13:07:44.637790Z",
     "iopub.status.idle": "2023-10-02T13:07:44.652242Z",
     "shell.execute_reply": "2023-10-02T13:07:44.652242Z",
     "shell.execute_reply.started": "2023-10-02T13:07:44.638791Z"
    }
   },
   "outputs": [
    {
     "data": {
      "text/plain": [
       "array([ 0.64836083,  2.23716094, -6.4053312 , -1.11721493, -0.27190061])"
      ]
     },
     "execution_count": 204,
     "metadata": {},
     "output_type": "execute_result"
    }
   ],
   "source": [
    "np.tan(z)"
   ]
  },
  {
   "cell_type": "markdown",
   "id": "430c3bcc-46f5-4290-b4d6-8efe838b4933",
   "metadata": {},
   "source": [
    "## Linear Algebra"
   ]
  },
  {
   "cell_type": "markdown",
   "id": "1397b5e8-90da-4f8f-b3d5-f3476f353216",
   "metadata": {
    "execution": {
     "iopub.execute_input": "2023-10-02T10:36:52.073287Z",
     "iopub.status.busy": "2023-10-02T10:36:52.072288Z",
     "iopub.status.idle": "2023-10-02T10:36:52.092563Z",
     "shell.execute_reply": "2023-10-02T10:36:52.091562Z",
     "shell.execute_reply.started": "2023-10-02T10:36:52.073287Z"
    }
   },
   "source": [
    "#### Multipy the different sized matrix"
   ]
  },
  {
   "cell_type": "code",
   "execution_count": 205,
   "id": "d191d806-f6e9-4f80-a80e-5f5c293e60e7",
   "metadata": {
    "execution": {
     "iopub.execute_input": "2023-10-02T13:07:44.654419Z",
     "iopub.status.busy": "2023-10-02T13:07:44.653223Z",
     "iopub.status.idle": "2023-10-02T13:07:44.668992Z",
     "shell.execute_reply": "2023-10-02T13:07:44.667555Z",
     "shell.execute_reply.started": "2023-10-02T13:07:44.654419Z"
    }
   },
   "outputs": [
    {
     "name": "stdout",
     "output_type": "stream",
     "text": [
      "[[1. 1. 1.]\n",
      " [1. 1. 1.]]\n",
      "[[10 10]\n",
      " [10 10]\n",
      " [10 10]]\n"
     ]
    }
   ],
   "source": [
    "a = np.ones((2,3))\n",
    "print(a)\n",
    "\n",
    "b = np.full((3,2),10)\n",
    "print(b)"
   ]
  },
  {
   "cell_type": "code",
   "execution_count": 206,
   "id": "f562c5d7-64fb-4b4b-801d-e5e8c6af117b",
   "metadata": {
    "execution": {
     "iopub.execute_input": "2023-10-02T13:07:44.673343Z",
     "iopub.status.busy": "2023-10-02T13:07:44.672312Z",
     "iopub.status.idle": "2023-10-02T13:07:44.683716Z",
     "shell.execute_reply": "2023-10-02T13:07:44.682718Z",
     "shell.execute_reply.started": "2023-10-02T13:07:44.673343Z"
    }
   },
   "outputs": [
    {
     "name": "stdout",
     "output_type": "stream",
     "text": [
      "[[30. 30.]\n",
      " [30. 30.]]\n"
     ]
    }
   ],
   "source": [
    "c = np.matmul(a,b)\n",
    "print(c)"
   ]
  },
  {
   "cell_type": "markdown",
   "id": "a679d8ca-5897-4a61-845d-534c410d777b",
   "metadata": {
    "execution": {
     "iopub.execute_input": "2023-10-02T10:41:15.523956Z",
     "iopub.status.busy": "2023-10-02T10:41:15.522955Z",
     "iopub.status.idle": "2023-10-02T10:41:15.532561Z",
     "shell.execute_reply": "2023-10-02T10:41:15.531563Z",
     "shell.execute_reply.started": "2023-10-02T10:41:15.523956Z"
    }
   },
   "source": [
    "#### Calculate the determinant"
   ]
  },
  {
   "cell_type": "code",
   "execution_count": 207,
   "id": "97dab858-3612-4f21-94c0-1337a6d3c106",
   "metadata": {
    "execution": {
     "iopub.execute_input": "2023-10-02T13:07:44.684717Z",
     "iopub.status.busy": "2023-10-02T13:07:44.684717Z",
     "iopub.status.idle": "2023-10-02T13:07:44.698366Z",
     "shell.execute_reply": "2023-10-02T13:07:44.698366Z",
     "shell.execute_reply.started": "2023-10-02T13:07:44.684717Z"
    }
   },
   "outputs": [
    {
     "name": "stdout",
     "output_type": "stream",
     "text": [
      "[[ 3  4  5]\n",
      " [ 7  8  9]\n",
      " [10 23 12]]\n"
     ]
    },
    {
     "data": {
      "text/plain": [
       "95.99999999999999"
      ]
     },
     "execution_count": 207,
     "metadata": {},
     "output_type": "execute_result"
    }
   ],
   "source": [
    "det = np.array([[3,4,5],[7,8,9],[10,23,12]])\n",
    "print(det)\n",
    "np.linalg.det(det)"
   ]
  },
  {
   "cell_type": "markdown",
   "id": "2653b302-5cf3-42c3-8037-b244a85f4d69",
   "metadata": {},
   "source": [
    "#### Trace of the Matrix"
   ]
  },
  {
   "cell_type": "code",
   "execution_count": 208,
   "id": "ed93deac-5f49-4c7e-9373-92e7a8d72f68",
   "metadata": {
    "execution": {
     "iopub.execute_input": "2023-10-02T13:07:44.700346Z",
     "iopub.status.busy": "2023-10-02T13:07:44.699346Z",
     "iopub.status.idle": "2023-10-02T13:07:44.714496Z",
     "shell.execute_reply": "2023-10-02T13:07:44.713495Z",
     "shell.execute_reply.started": "2023-10-02T13:07:44.700346Z"
    }
   },
   "outputs": [
    {
     "data": {
      "text/plain": [
       "23"
      ]
     },
     "execution_count": 208,
     "metadata": {},
     "output_type": "execute_result"
    }
   ],
   "source": [
    "np.trace(det) # Sum of Diagonal elements"
   ]
  },
  {
   "cell_type": "markdown",
   "id": "5636bc59-0013-4636-8d66-789415dddb9a",
   "metadata": {},
   "source": [
    "#### Rank of the Matrix"
   ]
  },
  {
   "cell_type": "code",
   "execution_count": 209,
   "id": "a7688d9e-60c6-435b-819b-3596f5920d03",
   "metadata": {
    "execution": {
     "iopub.execute_input": "2023-10-02T13:07:44.715492Z",
     "iopub.status.busy": "2023-10-02T13:07:44.715492Z",
     "iopub.status.idle": "2023-10-02T13:07:44.731993Z",
     "shell.execute_reply": "2023-10-02T13:07:44.730994Z",
     "shell.execute_reply.started": "2023-10-02T13:07:44.715492Z"
    }
   },
   "outputs": [
    {
     "data": {
      "text/plain": [
       "3"
      ]
     },
     "execution_count": 209,
     "metadata": {},
     "output_type": "execute_result"
    }
   ],
   "source": [
    "np.linalg.matrix_rank(det)"
   ]
  },
  {
   "cell_type": "markdown",
   "id": "0ab5ed39-6172-46f6-8eb8-1795fa70b199",
   "metadata": {},
   "source": [
    "#### Calculate Eigen Vectors"
   ]
  },
  {
   "cell_type": "code",
   "execution_count": 210,
   "id": "a773e942-6982-490c-85b5-e95c2c45102a",
   "metadata": {
    "execution": {
     "iopub.execute_input": "2023-10-02T13:07:44.733991Z",
     "iopub.status.busy": "2023-10-02T13:07:44.732988Z",
     "iopub.status.idle": "2023-10-02T13:07:44.745778Z",
     "shell.execute_reply": "2023-10-02T13:07:44.744774Z",
     "shell.execute_reply.started": "2023-10-02T13:07:44.733991Z"
    }
   },
   "outputs": [
    {
     "name": "stdout",
     "output_type": "stream",
     "text": [
      "[[1. 1.]\n",
      " [1. 1.]\n",
      " [1. 1.]]\n",
      "EigResult(eigenvalues=array([27.76981839, -0.89132247, -3.87849593]), eigenvectors=array([[-0.2470769 , -0.78837201, -0.36288044],\n",
      "       [-0.47258859, -0.00204184, -0.4173918 ],\n",
      "       [-0.84593914,  0.61519542,  0.83312776]]))\n"
     ]
    },
    {
     "data": {
      "text/plain": [
       "array([27.76981839, -0.89132247, -3.87849593])"
      ]
     },
     "execution_count": 210,
     "metadata": {},
     "output_type": "execute_result"
    }
   ],
   "source": [
    "eg = np.ones((3,2))\n",
    "print(eg)\n",
    "print(np.linalg.eig(det)) #This function gives eigen vectors and values for squared matrix\n",
    "np.linalg.eigvals(det) #Eigen values for standard matrix"
   ]
  },
  {
   "cell_type": "markdown",
   "id": "fd0152bb-17c5-423d-b099-12910667571c",
   "metadata": {},
   "source": [
    "#### Matrix Norm"
   ]
  },
  {
   "cell_type": "code",
   "execution_count": 211,
   "id": "f652d323-0ed1-4ff7-baca-92689dbcc8e6",
   "metadata": {
    "execution": {
     "iopub.execute_input": "2023-10-02T13:07:44.746773Z",
     "iopub.status.busy": "2023-10-02T13:07:44.746773Z",
     "iopub.status.idle": "2023-10-02T13:07:44.762107Z",
     "shell.execute_reply": "2023-10-02T13:07:44.760795Z",
     "shell.execute_reply.started": "2023-10-02T13:07:44.746773Z"
    }
   },
   "outputs": [
    {
     "name": "stdout",
     "output_type": "stream",
     "text": [
      "[[1. 1.]\n",
      " [1. 1.]\n",
      " [1. 1.]]\n"
     ]
    },
    {
     "data": {
      "text/plain": [
       "2.449489742783178"
      ]
     },
     "execution_count": 211,
     "metadata": {},
     "output_type": "execute_result"
    }
   ],
   "source": [
    "print(eg)\n",
    "np.linalg.norm(eg)"
   ]
  },
  {
   "cell_type": "markdown",
   "id": "20a3d64d-b095-45b6-8ac6-e6ebcbb10de4",
   "metadata": {},
   "source": [
    "#### Inverse of a Matrix"
   ]
  },
  {
   "cell_type": "code",
   "execution_count": 212,
   "id": "7c3a3605-234d-468f-b12f-770861269ce4",
   "metadata": {
    "execution": {
     "iopub.execute_input": "2023-10-02T13:07:44.763115Z",
     "iopub.status.busy": "2023-10-02T13:07:44.762107Z",
     "iopub.status.idle": "2023-10-02T13:07:44.777692Z",
     "shell.execute_reply": "2023-10-02T13:07:44.776693Z",
     "shell.execute_reply.started": "2023-10-02T13:07:44.763115Z"
    }
   },
   "outputs": [
    {
     "data": {
      "text/plain": [
       "array([[-1.15625   ,  0.69791667, -0.04166667],\n",
       "       [ 0.0625    , -0.14583333,  0.08333333],\n",
       "       [ 0.84375   , -0.30208333, -0.04166667]])"
      ]
     },
     "execution_count": 212,
     "metadata": {},
     "output_type": "execute_result"
    }
   ],
   "source": [
    "np.linalg.inv(det)"
   ]
  },
  {
   "cell_type": "markdown",
   "id": "98df7520-512d-4e2c-bea7-bba3fb454521",
   "metadata": {},
   "source": [
    "# Statistics"
   ]
  },
  {
   "cell_type": "code",
   "execution_count": 213,
   "id": "96e95da0-989d-4efe-b0c0-4c52f9e0ce4a",
   "metadata": {
    "execution": {
     "iopub.execute_input": "2023-10-02T13:07:44.780932Z",
     "iopub.status.busy": "2023-10-02T13:07:44.779927Z",
     "iopub.status.idle": "2023-10-02T13:07:44.793402Z",
     "shell.execute_reply": "2023-10-02T13:07:44.792320Z",
     "shell.execute_reply.started": "2023-10-02T13:07:44.780932Z"
    }
   },
   "outputs": [
    {
     "name": "stdout",
     "output_type": "stream",
     "text": [
      "[[1 2 3]\n",
      " [4 5 6]]\n"
     ]
    }
   ],
   "source": [
    "stats = np.array([[1,2,3,],[4,5,6]])\n",
    "print(stats)"
   ]
  },
  {
   "cell_type": "code",
   "execution_count": 214,
   "id": "c7989bd4-661d-445a-a024-56f55754a639",
   "metadata": {
    "execution": {
     "iopub.execute_input": "2023-10-02T13:07:44.795409Z",
     "iopub.status.busy": "2023-10-02T13:07:44.794410Z",
     "iopub.status.idle": "2023-10-02T13:07:44.808836Z",
     "shell.execute_reply": "2023-10-02T13:07:44.807832Z",
     "shell.execute_reply.started": "2023-10-02T13:07:44.795409Z"
    }
   },
   "outputs": [
    {
     "data": {
      "text/plain": [
       "1"
      ]
     },
     "execution_count": 214,
     "metadata": {},
     "output_type": "execute_result"
    }
   ],
   "source": [
    "np.min(stats)"
   ]
  },
  {
   "cell_type": "code",
   "execution_count": 215,
   "id": "7a80c0ca-dc3c-4269-871a-37f13c139155",
   "metadata": {
    "execution": {
     "iopub.execute_input": "2023-10-02T13:07:44.813250Z",
     "iopub.status.busy": "2023-10-02T13:07:44.813250Z",
     "iopub.status.idle": "2023-10-02T13:07:44.824301Z",
     "shell.execute_reply": "2023-10-02T13:07:44.823222Z",
     "shell.execute_reply.started": "2023-10-02T13:07:44.813250Z"
    }
   },
   "outputs": [
    {
     "data": {
      "text/plain": [
       "6"
      ]
     },
     "execution_count": 215,
     "metadata": {},
     "output_type": "execute_result"
    }
   ],
   "source": [
    "np.max(stats)"
   ]
  },
  {
   "cell_type": "code",
   "execution_count": 216,
   "id": "a4a5fb78-f115-45cb-8027-647757a9662f",
   "metadata": {
    "execution": {
     "iopub.execute_input": "2023-10-02T13:07:44.825308Z",
     "iopub.status.busy": "2023-10-02T13:07:44.825308Z",
     "iopub.status.idle": "2023-10-02T13:07:44.838983Z",
     "shell.execute_reply": "2023-10-02T13:07:44.838983Z",
     "shell.execute_reply.started": "2023-10-02T13:07:44.825308Z"
    }
   },
   "outputs": [
    {
     "data": {
      "text/plain": [
       "array([3, 6])"
      ]
     },
     "execution_count": 216,
     "metadata": {},
     "output_type": "execute_result"
    }
   ],
   "source": [
    "np.max(stats,axis=1) #When we gave axis = 1 It will return both max values of that columns"
   ]
  },
  {
   "cell_type": "code",
   "execution_count": 217,
   "id": "d848ef55-8f8f-424d-a4d6-a7d29222e2a2",
   "metadata": {
    "execution": {
     "iopub.execute_input": "2023-10-02T13:07:44.840983Z",
     "iopub.status.busy": "2023-10-02T13:07:44.839981Z",
     "iopub.status.idle": "2023-10-02T13:07:44.854534Z",
     "shell.execute_reply": "2023-10-02T13:07:44.854534Z",
     "shell.execute_reply.started": "2023-10-02T13:07:44.840983Z"
    }
   },
   "outputs": [
    {
     "data": {
      "text/plain": [
       "21"
      ]
     },
     "execution_count": 217,
     "metadata": {},
     "output_type": "execute_result"
    }
   ],
   "source": [
    "np.sum(stats)"
   ]
  },
  {
   "cell_type": "code",
   "execution_count": 218,
   "id": "6746a4b3-07e5-429e-ab72-bc3a619a2aea",
   "metadata": {
    "execution": {
     "iopub.execute_input": "2023-10-02T13:07:44.856627Z",
     "iopub.status.busy": "2023-10-02T13:07:44.855621Z",
     "iopub.status.idle": "2023-10-02T13:07:44.870940Z",
     "shell.execute_reply": "2023-10-02T13:07:44.869959Z",
     "shell.execute_reply.started": "2023-10-02T13:07:44.856627Z"
    }
   },
   "outputs": [
    {
     "data": {
      "text/plain": [
       "3.5"
      ]
     },
     "execution_count": 218,
     "metadata": {},
     "output_type": "execute_result"
    }
   ],
   "source": [
    "np.mean(stats)"
   ]
  },
  {
   "cell_type": "code",
   "execution_count": 219,
   "id": "3dbe0301-7cea-4ade-827b-2407eda5362e",
   "metadata": {
    "execution": {
     "iopub.execute_input": "2023-10-02T13:07:44.872940Z",
     "iopub.status.busy": "2023-10-02T13:07:44.871939Z",
     "iopub.status.idle": "2023-10-02T13:07:44.886104Z",
     "shell.execute_reply": "2023-10-02T13:07:44.885107Z",
     "shell.execute_reply.started": "2023-10-02T13:07:44.872940Z"
    }
   },
   "outputs": [
    {
     "data": {
      "text/plain": [
       "3.5"
      ]
     },
     "execution_count": 219,
     "metadata": {},
     "output_type": "execute_result"
    }
   ],
   "source": [
    "np.median(stats)"
   ]
  },
  {
   "cell_type": "code",
   "execution_count": 220,
   "id": "f6072bfe-52bc-48be-8100-e68ae7b8e5ab",
   "metadata": {
    "execution": {
     "iopub.execute_input": "2023-10-02T13:07:44.887586Z",
     "iopub.status.busy": "2023-10-02T13:07:44.886104Z",
     "iopub.status.idle": "2023-10-02T13:07:44.900464Z",
     "shell.execute_reply": "2023-10-02T13:07:44.900464Z",
     "shell.execute_reply.started": "2023-10-02T13:07:44.887586Z"
    }
   },
   "outputs": [
    {
     "data": {
      "text/plain": [
       "2.9166666666666665"
      ]
     },
     "execution_count": 220,
     "metadata": {},
     "output_type": "execute_result"
    }
   ],
   "source": [
    "np.var(stats)"
   ]
  },
  {
   "cell_type": "code",
   "execution_count": 221,
   "id": "9d12656e-d73c-4ed2-97c1-44e4be0e758d",
   "metadata": {
    "execution": {
     "iopub.execute_input": "2023-10-02T13:07:44.902465Z",
     "iopub.status.busy": "2023-10-02T13:07:44.901464Z",
     "iopub.status.idle": "2023-10-02T13:07:44.916926Z",
     "shell.execute_reply": "2023-10-02T13:07:44.915924Z",
     "shell.execute_reply.started": "2023-10-02T13:07:44.902465Z"
    }
   },
   "outputs": [
    {
     "data": {
      "text/plain": [
       "1.707825127659933"
      ]
     },
     "execution_count": 221,
     "metadata": {},
     "output_type": "execute_result"
    }
   ],
   "source": [
    "np.std(stats)"
   ]
  },
  {
   "cell_type": "markdown",
   "id": "f5e3161d-8d0a-48d1-a321-fa31892dbd6a",
   "metadata": {},
   "source": [
    "# Reorganizing Arrays"
   ]
  },
  {
   "cell_type": "code",
   "execution_count": 222,
   "id": "b358f2d9-01ae-4a44-b2e1-8b054a6e53c0",
   "metadata": {
    "execution": {
     "iopub.execute_input": "2023-10-02T13:07:44.917926Z",
     "iopub.status.busy": "2023-10-02T13:07:44.917926Z",
     "iopub.status.idle": "2023-10-02T13:07:44.932929Z",
     "shell.execute_reply": "2023-10-02T13:07:44.931931Z",
     "shell.execute_reply.started": "2023-10-02T13:07:44.917926Z"
    }
   },
   "outputs": [
    {
     "name": "stdout",
     "output_type": "stream",
     "text": [
      "[[1 2 3 4]\n",
      " [5 6 7 8]]\n",
      "(2, 4)\n"
     ]
    }
   ],
   "source": [
    "before = np.array([[1,2,3,4],[5,6,7,8]])\n",
    "print(before)\n",
    "print(before.shape)"
   ]
  },
  {
   "cell_type": "markdown",
   "id": "7f9969a4-a701-4377-8b39-e814ea25f089",
   "metadata": {},
   "source": [
    "#### Reshaping the matrix"
   ]
  },
  {
   "cell_type": "code",
   "execution_count": 223,
   "id": "c572d3a3-652a-4602-8115-0272d33244a9",
   "metadata": {
    "execution": {
     "iopub.execute_input": "2023-10-02T13:07:44.934925Z",
     "iopub.status.busy": "2023-10-02T13:07:44.933927Z",
     "iopub.status.idle": "2023-10-02T13:07:44.948252Z",
     "shell.execute_reply": "2023-10-02T13:07:44.947272Z",
     "shell.execute_reply.started": "2023-10-02T13:07:44.934925Z"
    }
   },
   "outputs": [
    {
     "name": "stdout",
     "output_type": "stream",
     "text": [
      "[[1 2]\n",
      " [3 4]\n",
      " [5 6]\n",
      " [7 8]]\n"
     ]
    }
   ],
   "source": [
    "after = before.reshape((4,2)) #The multiplication of shape should be equal to total values of the array\n",
    "print(after)"
   ]
  },
  {
   "cell_type": "markdown",
   "id": "185c24d4-4b41-49a8-9f47-58c03fab0f90",
   "metadata": {},
   "source": [
    "#### Vertically stacking vectors"
   ]
  },
  {
   "cell_type": "code",
   "execution_count": 224,
   "id": "c104942b-2008-4479-a761-bc5164b66848",
   "metadata": {
    "execution": {
     "iopub.execute_input": "2023-10-02T13:07:44.952257Z",
     "iopub.status.busy": "2023-10-02T13:07:44.951254Z",
     "iopub.status.idle": "2023-10-02T13:07:44.963042Z",
     "shell.execute_reply": "2023-10-02T13:07:44.963042Z",
     "shell.execute_reply.started": "2023-10-02T13:07:44.952257Z"
    }
   },
   "outputs": [
    {
     "data": {
      "text/plain": [
       "array([[1, 2, 3, 4],\n",
       "       [5, 6, 7, 8],\n",
       "       [5, 6, 7, 8],\n",
       "       [1, 2, 3, 4]])"
      ]
     },
     "execution_count": 224,
     "metadata": {},
     "output_type": "execute_result"
    }
   ],
   "source": [
    "#Vertical stacking is non other than appending the matrix\n",
    "v1 = np.array([1,2,3,4])\n",
    "v2 = np.array([5,6,7,8])\n",
    "\n",
    "np.vstack([v1,v2,v2,v1])"
   ]
  },
  {
   "cell_type": "code",
   "execution_count": 225,
   "id": "9c75440c-8644-4254-b92c-3c15b856d1f9",
   "metadata": {
    "execution": {
     "iopub.execute_input": "2023-10-02T13:07:44.965024Z",
     "iopub.status.busy": "2023-10-02T13:07:44.964023Z",
     "iopub.status.idle": "2023-10-02T13:07:44.978203Z",
     "shell.execute_reply": "2023-10-02T13:07:44.978203Z",
     "shell.execute_reply.started": "2023-10-02T13:07:44.965024Z"
    }
   },
   "outputs": [
    {
     "data": {
      "text/plain": [
       "array([1, 2, 3, 4, 5, 6, 7, 8])"
      ]
     },
     "execution_count": 225,
     "metadata": {},
     "output_type": "execute_result"
    }
   ],
   "source": [
    "#Horizontal stacking is same as vertical but it will add horizontally\n",
    "\n",
    "np.hstack((v1,v2))"
   ]
  },
  {
   "cell_type": "markdown",
   "id": "ddfd6bf9-38c1-4622-8751-0f74eb01c7e3",
   "metadata": {},
   "source": [
    "# Miscellaneous"
   ]
  },
  {
   "cell_type": "markdown",
   "id": "992cd0ff-61a8-4c6e-b1a4-94b8ae148b2a",
   "metadata": {},
   "source": [
    "#### Load data from file"
   ]
  },
  {
   "cell_type": "code",
   "execution_count": 226,
   "id": "605aecfc-152f-45bc-bea4-4928952c7c2d",
   "metadata": {
    "execution": {
     "iopub.execute_input": "2023-10-02T13:07:44.980260Z",
     "iopub.status.busy": "2023-10-02T13:07:44.979253Z",
     "iopub.status.idle": "2023-10-02T13:07:44.995771Z",
     "shell.execute_reply": "2023-10-02T13:07:44.993775Z",
     "shell.execute_reply.started": "2023-10-02T13:07:44.980260Z"
    }
   },
   "outputs": [
    {
     "data": {
      "text/plain": [
       "array([[ 1,  2,  3,  4,  1,  2],\n",
       "       [ 4,  3,  5,  4,  3,  4],\n",
       "       [ 5,  6,  7,  8,  6,  5],\n",
       "       [ 1,  2,  3,  4,  5, 11]])"
      ]
     },
     "execution_count": 226,
     "metadata": {},
     "output_type": "execute_result"
    }
   ],
   "source": [
    "filedata = np.genfromtxt('numpydata.txt',delimiter = ',') #Default float type\n",
    "filedata = filedata.astype('int32')\n",
    "filedata"
   ]
  },
  {
   "cell_type": "markdown",
   "id": "a6e728dc-d56e-4ce6-85d6-739037e1abee",
   "metadata": {},
   "source": [
    "#### Boolean Masking and Advance indexing"
   ]
  },
  {
   "cell_type": "code",
   "execution_count": 227,
   "id": "a6b2daac-9582-4b48-a001-588f3ee03fdb",
   "metadata": {
    "execution": {
     "iopub.execute_input": "2023-10-02T13:07:44.998921Z",
     "iopub.status.busy": "2023-10-02T13:07:44.997890Z",
     "iopub.status.idle": "2023-10-02T13:07:45.009720Z",
     "shell.execute_reply": "2023-10-02T13:07:45.009720Z",
     "shell.execute_reply.started": "2023-10-02T13:07:44.998921Z"
    }
   },
   "outputs": [
    {
     "data": {
      "text/plain": [
       "array([ 4,  4,  5,  4,  4,  5,  6,  7,  8,  6,  5,  4,  5, 11])"
      ]
     },
     "execution_count": 227,
     "metadata": {},
     "output_type": "execute_result"
    }
   ],
   "source": [
    "filedata[filedata >3]"
   ]
  },
  {
   "cell_type": "code",
   "execution_count": 228,
   "id": "cfd8f272-79c6-416c-8e27-7876deb08fde",
   "metadata": {
    "execution": {
     "iopub.execute_input": "2023-10-02T13:07:45.012724Z",
     "iopub.status.busy": "2023-10-02T13:07:45.011722Z",
     "iopub.status.idle": "2023-10-02T13:07:45.025586Z",
     "shell.execute_reply": "2023-10-02T13:07:45.024586Z",
     "shell.execute_reply.started": "2023-10-02T13:07:45.012724Z"
    }
   },
   "outputs": [
    {
     "data": {
      "text/plain": [
       "array([[ True,  True,  True, False,  True,  True],\n",
       "       [False,  True, False, False,  True, False],\n",
       "       [False, False, False, False, False, False],\n",
       "       [ True,  True,  True, False, False, False]])"
      ]
     },
     "execution_count": 228,
     "metadata": {},
     "output_type": "execute_result"
    }
   ],
   "source": [
    "filedata < 4"
   ]
  },
  {
   "cell_type": "code",
   "execution_count": 229,
   "id": "568b993d-6dee-4b12-8238-adf2a4d1b5d5",
   "metadata": {
    "execution": {
     "iopub.execute_input": "2023-10-02T13:07:45.026587Z",
     "iopub.status.busy": "2023-10-02T13:07:45.026587Z",
     "iopub.status.idle": "2023-10-02T13:07:45.040172Z",
     "shell.execute_reply": "2023-10-02T13:07:45.040172Z",
     "shell.execute_reply.started": "2023-10-02T13:07:45.026587Z"
    }
   },
   "outputs": [
    {
     "data": {
      "text/plain": [
       "array([False, False, False, False, False, False])"
      ]
     },
     "execution_count": 229,
     "metadata": {},
     "output_type": "execute_result"
    }
   ],
   "source": [
    "np.all(filedata > 4,axis = 0) # Go through each columns "
   ]
  },
  {
   "cell_type": "code",
   "execution_count": 230,
   "id": "3fcbf3b4-7a30-40b5-b5cc-04b31870d5aa",
   "metadata": {
    "execution": {
     "iopub.execute_input": "2023-10-02T13:07:45.042148Z",
     "iopub.status.busy": "2023-10-02T13:07:45.041148Z",
     "iopub.status.idle": "2023-10-02T13:07:45.057143Z",
     "shell.execute_reply": "2023-10-02T13:07:45.056068Z",
     "shell.execute_reply.started": "2023-10-02T13:07:45.042148Z"
    }
   },
   "outputs": [
    {
     "data": {
      "text/plain": [
       "array([[False, False,  True, False, False, False],\n",
       "       [False,  True, False, False,  True, False],\n",
       "       [False, False, False, False, False, False],\n",
       "       [False, False,  True, False, False, False]])"
      ]
     },
     "execution_count": 230,
     "metadata": {},
     "output_type": "execute_result"
    }
   ],
   "source": [
    "((filedata < 4) & (filedata > 2)) "
   ]
  },
  {
   "cell_type": "code",
   "execution_count": 231,
   "id": "80db4cbc-8043-4395-a588-b761ff69952a",
   "metadata": {
    "execution": {
     "iopub.execute_input": "2023-10-02T13:07:45.062643Z",
     "iopub.status.busy": "2023-10-02T13:07:45.062643Z",
     "iopub.status.idle": "2023-10-02T13:07:45.088708Z",
     "shell.execute_reply": "2023-10-02T13:07:45.087709Z",
     "shell.execute_reply.started": "2023-10-02T13:07:45.062643Z"
    }
   },
   "outputs": [
    {
     "data": {
      "text/plain": [
       "array([[ True,  True, False,  True,  True,  True],\n",
       "       [ True, False,  True,  True, False,  True],\n",
       "       [ True,  True,  True,  True,  True,  True],\n",
       "       [ True,  True, False,  True,  True,  True]])"
      ]
     },
     "execution_count": 231,
     "metadata": {},
     "output_type": "execute_result"
    }
   ],
   "source": [
    "~((filedata < 4) & (filedata > 2))  # ~ indicate not"
   ]
  },
  {
   "cell_type": "markdown",
   "id": "260a3e2e-1a29-423e-beb8-bba263484400",
   "metadata": {},
   "source": [
    "#### Example "
   ]
  },
  {
   "cell_type": "code",
   "execution_count": 232,
   "id": "23713e60-23d6-4feb-a847-c025f6dd85d8",
   "metadata": {
    "execution": {
     "iopub.execute_input": "2023-10-02T13:07:45.089709Z",
     "iopub.status.busy": "2023-10-02T13:07:45.089709Z",
     "iopub.status.idle": "2023-10-02T13:07:45.104087Z",
     "shell.execute_reply": "2023-10-02T13:07:45.103091Z",
     "shell.execute_reply.started": "2023-10-02T13:07:45.089709Z"
    }
   },
   "outputs": [
    {
     "name": "stdout",
     "output_type": "stream",
     "text": [
      "[[ 1  2  3  4  5]\n",
      " [ 6  7  8  9 10]\n",
      " [11 12 13 14 15]\n",
      " [16 17 18 19 20]\n",
      " [21 22 23 24 25]\n",
      " [26 27 28 29 30]]\n"
     ]
    }
   ],
   "source": [
    "matrix = np.array([[1,2,3,4,5],[6,7,8,9,10],[11,12,13,14,15],[16,17,18,19,20],[21,22,23,24,25],[26,27,28,29,30]])\n",
    "print(matrix)"
   ]
  },
  {
   "cell_type": "code",
   "execution_count": 233,
   "id": "a85dd8eb-2af4-4d4b-b2bf-6ea4363dbaee",
   "metadata": {
    "execution": {
     "iopub.execute_input": "2023-10-02T13:07:45.105399Z",
     "iopub.status.busy": "2023-10-02T13:07:45.104087Z",
     "iopub.status.idle": "2023-10-02T13:07:45.119653Z",
     "shell.execute_reply": "2023-10-02T13:07:45.118652Z",
     "shell.execute_reply.started": "2023-10-02T13:07:45.105399Z"
    }
   },
   "outputs": [
    {
     "data": {
      "text/plain": [
       "array([[11, 12],\n",
       "       [16, 17]])"
      ]
     },
     "execution_count": 233,
     "metadata": {},
     "output_type": "execute_result"
    }
   ],
   "source": [
    "matrix[2:4,0:2]"
   ]
  },
  {
   "cell_type": "code",
   "execution_count": 234,
   "id": "246e853b-04c6-483d-bc39-4bb994d10f60",
   "metadata": {
    "execution": {
     "iopub.execute_input": "2023-10-02T13:07:45.121651Z",
     "iopub.status.busy": "2023-10-02T13:07:45.120653Z",
     "iopub.status.idle": "2023-10-02T13:07:45.135404Z",
     "shell.execute_reply": "2023-10-02T13:07:45.134275Z",
     "shell.execute_reply.started": "2023-10-02T13:07:45.121651Z"
    }
   },
   "outputs": [
    {
     "data": {
      "text/plain": [
       "array([ 2,  8, 14, 20])"
      ]
     },
     "execution_count": 234,
     "metadata": {},
     "output_type": "execute_result"
    }
   ],
   "source": [
    "matrix[[0,1,2,3],[1,2,3,4]]"
   ]
  },
  {
   "cell_type": "code",
   "execution_count": 235,
   "id": "f1148c99-6ff7-4046-9736-9112ff290f7a",
   "metadata": {
    "execution": {
     "iopub.execute_input": "2023-10-02T13:07:45.136413Z",
     "iopub.status.busy": "2023-10-02T13:07:45.136413Z",
     "iopub.status.idle": "2023-10-02T13:07:45.150780Z",
     "shell.execute_reply": "2023-10-02T13:07:45.149781Z",
     "shell.execute_reply.started": "2023-10-02T13:07:45.136413Z"
    }
   },
   "outputs": [
    {
     "data": {
      "text/plain": [
       "array([[ 4,  5],\n",
       "       [24, 25],\n",
       "       [29, 30]])"
      ]
     },
     "execution_count": 235,
     "metadata": {},
     "output_type": "execute_result"
    }
   ],
   "source": [
    "matrix[[0,4,5],3:]"
   ]
  },
  {
   "cell_type": "code",
   "execution_count": null,
   "id": "79e6772a-7237-4f91-9b7e-76a0ef0379e3",
   "metadata": {},
   "outputs": [],
   "source": []
  },
  {
   "cell_type": "code",
   "execution_count": null,
   "id": "8f510e34-66ad-4e71-8481-0eeffb54c9e7",
   "metadata": {},
   "outputs": [],
   "source": []
  },
  {
   "cell_type": "code",
   "execution_count": null,
   "id": "28766d30-0ccc-4ccb-b0b2-6959510ec5c9",
   "metadata": {},
   "outputs": [],
   "source": []
  }
 ],
 "metadata": {
  "kernelspec": {
   "display_name": "Python 3 (ipykernel)",
   "language": "python",
   "name": "python3"
  },
  "language_info": {
   "codemirror_mode": {
    "name": "ipython",
    "version": 3
   },
   "file_extension": ".py",
   "mimetype": "text/x-python",
   "name": "python",
   "nbconvert_exporter": "python",
   "pygments_lexer": "ipython3",
   "version": "3.10.11"
  }
 },
 "nbformat": 4,
 "nbformat_minor": 5
}
